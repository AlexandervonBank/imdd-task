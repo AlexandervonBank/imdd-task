{
 "cells": [
  {
   "cell_type": "markdown",
   "metadata": {},
   "source": [
    "# SSMF-Task: Training of an SNN Demapper with Tenary Encoding\n",
    "\n",
    "In this example we train SNN-based demapp with a single hidden LIF layer and a non-spiking integrator voting layer to solve the SSMF-Task [1]. The SNN demapper used in this example is based on [2].\n",
    "\n",
    "### References\n",
    "[1] Elias Arnold, Eike-Manuel Edelmann, Alexander von Bank, Eric Müller, Laurent Schmalen, Johannes Schemmel, Short-reach Optical Communications: A Real-world Task for Neuromorphic Hardware. [https://arxiv.org/abs/2412.03129](https://arxiv.org/abs/2412.03129)\n",
    "\n",
    "[2] Eike-Manuel Bansbach; Alexander von Bank; Laurent Schmalen. Spiking Neural Network Decision Feedback Equalization. [https://ieeexplore.ieee.org/abstract/document/10104550](https://ieeexplore.ieee.org/abstract/document/10104550)\n"
   ]
  },
  {
   "cell_type": "code",
   "execution_count": 59,
   "metadata": {},
   "outputs": [],
   "source": [
    "import matplotlib.pyplot as plt\n",
    "from pathlib import Path\n",
    "from tqdm import tqdm\n",
    "import numpy as np\n",
    "import torch\n",
    "import norse.torch as norse\n",
    "\n",
    "from IMDD import IMDDModel, SSMFDataset, helpers"
   ]
  },
  {
   "cell_type": "markdown",
   "metadata": {},
   "source": [
    "## Tenary Encoding"
   ]
  },
  {
   "cell_type": "code",
   "execution_count": 60,
   "metadata": {},
   "outputs": [
    {
     "name": "stdout",
     "output_type": "stream",
     "text": [
      "Received symbols y (chunked):\n",
      "\t tensor([3.2442, 1.1051, 3.9311, 4.6754, 3.5988, 3.4377, 3.0124, 1.2034, 4.2148,\n",
      "        5.0880, 4.3835, 3.3564, 3.6701, 2.9727, 2.4524, 4.9323, 2.4587, 0.8778,\n",
      "        2.1116, 3.3859, 4.1223]) torch.Size([21])\n",
      "Corresponding index q:\n",
      "\t tensor(3) torch.Size([])\n",
      "Corresponding send bits:\n",
      "\t tensor([1, 0], dtype=torch.uint8)\n"
     ]
    }
   ],
   "source": [
    "dataset = SSMFDataset(train=True)\n",
    "\n",
    "# Generate some data\n",
    "y_chunk, q = dataset[45]\n",
    "\n",
    "# Data\n",
    "print(\"Received symbols y (chunked):\\n\\t\", y_chunk, y_chunk.shape)\n",
    "print(\"Corresponding index q:\\n\\t\", q, q.shape)\n",
    "print(\"Corresponding send bits:\\n\\t\", helpers.get_graylabel(2)[q])"
   ]
  },
  {
   "cell_type": "markdown",
   "metadata": {},
   "source": []
  },
  {
   "cell_type": "code",
   "execution_count": 61,
   "metadata": {},
   "outputs": [],
   "source": [
    "# Word lenght of the quantizer\n",
    "K = 8\n",
    "\n",
    "# Maximum input value of the quantizer\n",
    "x_max = 4\n",
    "\n",
    "# Time resolution of encoding and SNN\n",
    "dt = 1e-3\n",
    "time_length = 0.01  # s"
   ]
  },
  {
   "cell_type": "code",
   "execution_count": 62,
   "metadata": {},
   "outputs": [],
   "source": [
    "class BitMapper:\n",
    "    \"\"\" Bit mapper class \"\"\"\n",
    "\n",
    "    def __init__(self, w, device):\n",
    "        if(w <= 0):\n",
    "            raise ValueError(\"w has to be larger than 0\")\n",
    "        self.device = device\n",
    "        self.word_length = w\n",
    "        self.change()\n",
    "\n",
    "    def change(self):\n",
    "        self.map_mat = torch.linspace(0, self.word_length - 1, self.word_length).to(self.device)\n",
    "        self.map_mat = 2**self.map_mat\n",
    "\n",
    "    def map(self, bits):\n",
    "        numbers = self.map_mat @ torch.flip(bits, dims=[1]).T\n",
    "        return numbers\n",
    " \n",
    "    def demap(self, numbers):\n",
    "        orig_shape = numbers.shape\n",
    "        numbers = numbers.flatten()\n",
    "        bit_list = [(numbers >> shift_ind) & 1 for shift_ind in range(self.word_length)] # little endian\n",
    "        bit_list.reverse() # big endian\n",
    "        bits = torch.zeros((self.word_length, numbers.shape[0]), device=self.device)\n",
    "        for n in range(len(bit_list)):\n",
    "            bits[n] = bit_list[n]\n",
    "        bits = bits.T\n",
    "        bits = bits.unflatten(0, (orig_shape))\n",
    "\n",
    "        return bits\n",
    "\n",
    "\n",
    "def midtread_binary_unipolar(x, w, x_max):\n",
    "    x = torch.clip(x, 0, x_max)\n",
    "    delta_x = x_max / (2**w)\n",
    "    # Select class from +/- 2**w-1/2\n",
    "    xh_uniform_midtread = torch.floor(torch.abs(x) / delta_x + 0.5)\n",
    "    # Clip to 2**w-1\n",
    "    xh_uniform_midtread = torch.clip(xh_uniform_midtread, 0, 2**w - 1)\n",
    "    # Round up\n",
    "    xh_uniform_midtread = torch.ceil(xh_uniform_midtread).int()\n",
    "\n",
    "    return delta_x, xh_uniform_midtread"
   ]
  },
  {
   "cell_type": "code",
   "execution_count": 63,
   "metadata": {},
   "outputs": [],
   "source": [
    "class Ternary_Encoder(torch.nn.Module):\n",
    "    \"\"\" Class implementing the transmitter model \"\"\"\n",
    "\n",
    "    def __init__(self, word_length: int = 8, time: int = 10, maximum_input_absolute: int = 4,\n",
    "                 device: torch.device ='cpu'):\n",
    "        super().__init__()\n",
    "        self.w = word_length\n",
    "        self.T = time\n",
    "        self.x_max = maximum_input_absolute\n",
    "        self.bitmap = BitMapper(self.w, device)\n",
    "        self.device = device\n",
    "\n",
    "    def forward(self, recv_symbols):\n",
    "        rx = recv_symbols - torch.mean(recv_symbols)\n",
    "        d_x, recv_q = midtread_binary_unipolar(torch.abs(rx), self.w, self.x_max)\n",
    "        binary = self.bitmap.demap(recv_q)\n",
    "        sign = torch.permute(torch.sign(rx).repeat(self.w, 1, 1), (1, 2, 0))\n",
    "        tern_in_sym = binary * sign\n",
    "        inputs = tern_in_sym.reshape((1, tern_in_sym.shape[0], -1))\n",
    "        inputs = torch.vstack(\n",
    "            (inputs, torch.zeros(\n",
    "                (self.T - 1, inputs.shape[1], inputs.shape[2]), device=self.device)))\n",
    "\n",
    "        return inputs\n",
    "\n",
    "\n",
    "encoder = Ternary_Encoder(\n",
    "    word_length=K,\n",
    "    time=int(time_length // dt),\n",
    "    maximum_input_absolute=x_max,\n",
    "    device='cpu')"
   ]
  },
  {
   "cell_type": "markdown",
   "metadata": {},
   "source": []
  },
  {
   "cell_type": "code",
   "execution_count": 64,
   "metadata": {},
   "outputs": [
    {
     "name": "stdout",
     "output_type": "stream",
     "text": [
      "Spikes:\n",
      " tensor([[[-0., -0., -0.,  ..., 0., 0., 0.]],\n",
      "\n",
      "        [[0., 0., 0.,  ..., 0., 0., 0.]],\n",
      "\n",
      "        [[0., 0., 0.,  ..., 0., 0., 0.]],\n",
      "\n",
      "        ...,\n",
      "\n",
      "        [[0., 0., 0.,  ..., 0., 0., 0.]],\n",
      "\n",
      "        [[0., 0., 0.,  ..., 0., 0., 0.]],\n",
      "\n",
      "        [[0., 0., 0.,  ..., 0., 0., 0.]]]) torch.Size([10, 1, 168])\n"
     ]
    }
   ],
   "source": [
    "spikes = encoder(y_chunk.unsqueeze(0))  # first ten samples\n",
    "print(\"Spikes:\\n\", spikes, spikes.shape)"
   ]
  },
  {
   "cell_type": "code",
   "execution_count": 65,
   "metadata": {},
   "outputs": [
    {
     "data": {
      "image/png": "[encoded data removed]",
      "text/plain": [
       "<Figure size 640x480 with 1 Axes>"
      ]
     },
     "metadata": {},
     "output_type": "display_data"
    }
   ],
   "source": [
    "# Convert time-dense spikes into event-based spikes\n",
    "events = torch.nonzero(spikes[:, 0])\n",
    "time = np.linspace(0, time_length, int(time_length / dt))\n",
    "\n",
    "fig, axes = plt.subplots()\n",
    "axes.set_xlim(-0.0001, time_length)\n",
    "axes.set_ylim(0, 21 * K)\n",
    "axes.set_xlabel(\"$t$ [ms]\")\n",
    "axes.set_ylabel(\"input neuron $i$\")\n",
    "axes.scatter(events[:, 0] * dt, events[:, 1], s=5, color=\"black\")\n",
    "for i in range(21):\n",
    "    axes.hlines(8 * (i + 1), 0, 0.015, color=\"grey\", lw=0.5)\n",
    "plt.show()"
   ]
  },
  {
   "cell_type": "markdown",
   "metadata": {},
   "source": [
    "# Model"
   ]
  },
  {
   "cell_type": "code",
   "execution_count": 66,
   "metadata": {},
   "outputs": [],
   "source": [
    "class SNNEqualizer(torch.nn.Module):\n",
    "\n",
    "    def __init__(self, input_features: int, hidden_features: int, output_features: int,\n",
    "                 encoder: torch.nn.Module, device: torch.device, dt: float = 0.001):\n",
    "        super().__init__()\n",
    "\n",
    "        self.device = device;\n",
    "        self.encoder = encoder\n",
    "        self.dt = dt\n",
    "        self.hidden_features = hidden_features\n",
    "        self.output_features = output_features\n",
    "\n",
    "        self.p = norse.LIFParameters(\n",
    "            alpha = torch.zeros(hidden_features, device=device).fill_(100.0),\n",
    "            v_th = torch.ones(hidden_features, device=device),\n",
    "            v_leak = torch.tensor(0, device=device),\n",
    "            v_reset = torch.zeros(hidden_features, device=device),\n",
    "            tau_mem_inv = torch.zeros(hidden_features, device=device).fill_(100.0),\n",
    "            tau_syn_inv = torch.zeros(hidden_features, device=device).fill_(200.0))\n",
    "\n",
    "        self.linear_in = torch.nn.Linear(input_features, hidden_features, bias=False).to(device)\n",
    "        self.LIFRec = norse.LIFRecurrentCell(\n",
    "            hidden_features, hidden_features, p=self.p, dt=dt, autapses=False).to(device)\n",
    "        self.linear_out = torch.nn.Linear(hidden_features, output_features, bias=True).to(device)\n",
    "\n",
    "    @property\n",
    "    def rate(self):\n",
    "        return self.x.abs().sum(0).sum(1), self.z_rec.sum(0).sum(1)\n",
    "\n",
    "    def forward(self, in_val):\n",
    "        state = None\n",
    "        self.x = self.encoder(in_val)\n",
    "\n",
    "        z_rec, z_out = [], []\n",
    "        for ts in range(self.x.shape[0]):\n",
    "            z = self.linear_in(self.x[ts])\n",
    "            z, state = self.LIFRec(z, state)\n",
    "            z_rec.append(z)\n",
    "            z = self.linear_out(z)\n",
    "            z_out.append(z)\n",
    "\n",
    "        self.z_rec = torch.stack(z_rec)\n",
    "        z_out = torch.stack(z_out)\n",
    "\n",
    "        z = torch.sum(z_out, 0)\n",
    "        return z"
   ]
  },
  {
   "cell_type": "markdown",
   "metadata": {},
   "source": [
    "## Helper Functions"
   ]
  },
  {
   "cell_type": "code",
   "execution_count": 67,
   "metadata": {},
   "outputs": [],
   "source": [
    "def stats(loss: torch.Tensor, pred: torch.Tensor, data: torch.Tensor):\n",
    "    ber = helpers.bit_error_rate(data, pred, False)\n",
    "    acc = helpers.accuracy(data, pred, False)\n",
    "    \n",
    "    # Number false bits in current batch\n",
    "    count = torch.count_nonzero(\n",
    "        (gray_bits[torch.argmax(pred, 1)] != gray_bits[data]).reshape(-1))\n",
    "\n",
    "    return ber, acc, count\n",
    "\n",
    "\n",
    "def train(dataloader, optimizer, loss_fn, demapper, device):\n",
    "    loss, acc, ber = [], [], []\n",
    "\n",
    "    for i, (data, target) in enumerate(dataloader):\n",
    "        optimizer.zero_grad()\n",
    "\n",
    "        data = data.to(device)\n",
    "        target = target.to(device)\n",
    "\n",
    "        pred_b = demapper(data)\n",
    "        loss_b = loss_fn(pred_b, target)\n",
    "\n",
    "        # Optimize\n",
    "        loss_b.backward()\n",
    "        optimizer.step()\n",
    "\n",
    "        # Get stats\n",
    "        ber_b, acc_b, _ = stats(loss_b, pred_b, target)\n",
    "\n",
    "        # Accumualte\n",
    "        loss.append(loss_b.detach())\n",
    "        acc.append(acc_b)\n",
    "        ber.append(ber_b)\n",
    "\n",
    "    return (torch.stack(loss).reshape(-1).mean(),\n",
    "            torch.stack(acc).reshape(-1).mean(),\n",
    "            torch.stack(ber).reshape(-1).mean())\n",
    "\n",
    "\n",
    "def validate(dataloader, demapper, loss_fn, device, min_false_symbols, max_test_epochs):\n",
    "    loss, acc, ber, n_false = [], [], [], 0\n",
    "\n",
    "    for epoch in range(max_test_epochs):\n",
    "        for i, (data, target) in enumerate(dataloader):\n",
    "\n",
    "            data = data.to(device)\n",
    "            target = target.to(device)\n",
    "\n",
    "            pred_b = demapper(data)\n",
    "            loss_b = loss_fn(pred_b, target)\n",
    "\n",
    "            ber_b, acc_b, count = stats(loss_b, pred_b, target)\n",
    "\n",
    "            loss.append(loss_b.detach())\n",
    "            acc.append(acc_b)\n",
    "            ber.append(ber_b)\n",
    "\n",
    "            n_false += count\n",
    "\n",
    "        if n_false >= min_false_symbols:\n",
    "            break\n",
    "\n",
    "    return (torch.stack(loss).reshape(-1).mean(),\n",
    "            torch.stack(acc).reshape(-1).mean(),\n",
    "            torch.stack(ber).reshape(-1).mean(),\n",
    "            n_false)\n",
    "\n",
    "\n",
    "def test(dataloader, demapper, device, min_false_bits):\n",
    "    ber, i_rate, h_rate, n_false = [], [], [], 0\n",
    "    while True:\n",
    "        for i, (data, target) in enumerate(test_loader):\n",
    "            data = data.to(device)\n",
    "            target = target.to(device)\n",
    "\n",
    "            pred_b = lif_demapper(data)\n",
    "\n",
    "            ber_b = helpers.bit_error_rate(target, pred_b, False)\n",
    "            ber.append(ber_b)\n",
    "\n",
    "            i_rate.append(lif_demapper.rate[0].detach())\n",
    "            h_rate.append(lif_demapper.rate[1].detach())\n",
    "\n",
    "            # Number false bits in current batch\n",
    "            n_false += torch.count_nonzero(\n",
    "                (gray_bits[torch.argmax(pred_b, 1)] != gray_bits[target]).reshape(-1))\n",
    "\n",
    "        if n_false >= min_false_bits:\n",
    "            break\n",
    "    \n",
    "    return (torch.stack(ber).reshape(-1).mean(),\n",
    "            torch.stack(i_rate).reshape(-1).mean(),\n",
    "            torch.stack(h_rate).reshape(-1).mean(),\n",
    "            n_false)"
   ]
  },
  {
   "cell_type": "markdown",
   "metadata": {},
   "source": [
    "## Training"
   ]
  },
  {
   "cell_type": "code",
   "execution_count": 68,
   "metadata": {},
   "outputs": [],
   "source": [
    "# Paths\n",
    "base_path = Path(\"../example_results/SSMF\")\n",
    "base_path.mkdir(exist_ok=True, parents=True)\n",
    "model_dir = Path(base_path / \"models\")\n",
    "model_dir.mkdir(exist_ok=True)"
   ]
  },
  {
   "cell_type": "code",
   "execution_count": 69,
   "metadata": {},
   "outputs": [
    {
     "name": "stdout",
     "output_type": "stream",
     "text": [
      "Using device:  cuda\n"
     ]
    }
   ],
   "source": [
    "# The device\n",
    "device = torch.device(\"cuda\" if torch.cuda.is_available() else \"cpu\")\n",
    "print(\"Using device: \", device)\n",
    "\n",
    "# Training parameters\n",
    "batch_size_train = 10000 \n",
    "batch_size_val = 10000\n",
    "epochs = 10000\n",
    "min_false_bits = 2000\n",
    "max_test_epochs = 1000\n",
    "lr = 0.01\n",
    "\n",
    "# Bits\n",
    "gray_bits = helpers.get_graylabel(2).to(device)"
   ]
  },
  {
   "cell_type": "code",
   "execution_count": 70,
   "metadata": {},
   "outputs": [],
   "source": [
    "# Fix seed\n",
    "torch.manual_seed(0)\n",
    "np.random.seed(0)\n",
    "\n",
    "# Demapper\n",
    "lif_demapper = SNNEqualizer(\n",
    "    input_features=K * 21,\n",
    "    hidden_features=80,\n",
    "    output_features=4,\n",
    "    encoder=Ternary_Encoder(\n",
    "        word_length=K,\n",
    "        time=int(time_length // dt),\n",
    "        maximum_input_absolute=x_max,\n",
    "        device=device),\n",
    "    device=device,\n",
    "    dt=dt)"
   ]
  },
  {
   "cell_type": "code",
   "execution_count": null,
   "metadata": {},
   "outputs": [],
   "source": [
    "# Dataset\n",
    "train_dataset = SSMFDataset()\n",
    "# The SNRs we train the demapper for\n",
    "train_dataset.set_noise_power_db(-17.)\n",
    "\n",
    "# Dataloader\n",
    "train_loader = torch.utils.data.DataLoader(train_dataset, batch_size_train, shuffle=True)\n",
    "val_loader = torch.utils.data.DataLoader(train_dataset, batch_size_val, shuffle=False)\n",
    "\n",
    "# Loss function\n",
    "loss_fn = torch.nn.CrossEntropyLoss()\n",
    "optimizer = torch.optim.Adam(lif_demapper.parameters(), lr=lr)\n",
    "\n",
    "# Train for SNR\n",
    "val_data = torch.zeros((epochs // 10, 4))\n",
    "best_val_ber = np.inf\n",
    "\n",
    "pbar = tqdm(total=epochs, unit=\"epoch\", leave=False)\n",
    "for epoch in range(epochs):\n",
    "    # Train\n",
    "    train_loss, train_acc, train_ber = train(train_loader, optimizer, loss_fn, lif_demapper, device)\n",
    "    \n",
    "    # Validate\n",
    "    if epoch % 100 == 0:\n",
    "        val_loss, val_acc, val_ber, n_false = validate(\n",
    "            val_loader, lif_demapper, loss_fn, device, min_false_bits, max_test_epochs)\n",
    "\n",
    "        # Save best demapper\n",
    "        if val_ber < best_val_ber:\n",
    "            torch.save(lif_demapper.state_dict(), model_dir / f\"best_model_snr_17.pt\")\n",
    "            best_val_ber = val_ber\n",
    "    pbar.set_postfix(train_ber=train_ber.item(), val_ber=val_ber.item(), n_false=n_false.item())\n",
    "    pbar.update()"
   ]
  },
  {
   "cell_type": "markdown",
   "metadata": {},
   "source": [
    "### Test"
   ]
  },
  {
   "cell_type": "code",
   "execution_count": 71,
   "metadata": {},
   "outputs": [
    {
     "name": "stdout",
     "output_type": "stream",
     "text": [
      "Tested Demapper for 15.0. BER = 0.03724999725818634, n_false = 2235\n",
      "Tested Demapper for 16.0. BER = 0.025162499397993088, n_false = 2013\n",
      "Tested Demapper for 17.0. BER = 0.01655000075697899, n_false = 2317\n",
      "Tested Demapper for 18.0. BER = 0.009936363436281681, n_false = 2186\n",
      "Tested Demapper for 19.0. BER = 0.005531578790396452, n_false = 2102\n",
      "Tested Demapper for 20.0. BER = 0.0028124998789280653, n_false = 2025\n",
      "Tested Demapper for 21.0. BER = 0.0013171052560210228, n_false = 2002\n",
      "Tested Demapper for 22.0. BER = 0.0006024096510373056, n_false = 2000\n",
      "Tested Demapper for 23.0. BER = 0.00025839792215265334, n_false = 2000\n"
     ]
    }
   ],
   "source": [
    "# SNRS to test the demapper\n",
    "snrs = torch.arange(15., 24., 1.)\n",
    "bers = np.zeros((snrs.shape[0], 5))\n",
    "\n",
    "for s, snr in enumerate(snrs):\n",
    "    # Set SNR in dataset\n",
    "    # Dataset and loader\n",
    "    dataset = SSMFDataset(train=False)\n",
    "    dataset.set_noise_power_db(-snr.item())\n",
    "    test_loader = torch.utils.data.DataLoader(dataset, batch_size_val, shuffle=False)\n",
    "\n",
    "    # Load best model for current SNR\n",
    "    state_dict = torch.load(model_dir / f\"best_model_snr_17.pt\")\n",
    "    lif_demapper.load_state_dict(state_dict)\n",
    "    \n",
    "    ber, i_rate, h_rate, n_false = test(test_loader, lif_demapper, device, min_false_bits)   \n",
    "    bers[s] = torch.tensor([snr, ber, i_rate, h_rate, n_false]).cpu().numpy()\n",
    "\n",
    "    print(f\"Tested Demapper for {snr}. BER = {ber}, n_false = {n_false}\")\n",
    "\n",
    "np.save(base_path / \"test_bers.npy\", bers)"
   ]
  },
  {
   "cell_type": "markdown",
   "metadata": {},
   "source": [
    "## Plot BER-SNR curve"
   ]
  },
  {
   "cell_type": "code",
   "execution_count": 72,
   "metadata": {},
   "outputs": [
    {
     "data": {
      "image/png": "[encoded data removed]",
      "text/plain": [
       "<Figure size 550x270 with 2 Axes>"
      ]
     },
     "metadata": {},
     "output_type": "display_data"
    }
   ],
   "source": [
    "data = np.load(base_path / \"test_bers.npy\")[:-1]\n",
    "\n",
    "color = [\"#FAC90F\", \"#FA8D0F\", \"#0F69FA\", \"#7A6F45\"]\n",
    "\n",
    "fig, axs = plt.subplots(ncols=2, figsize=(5.5, 2.7))\n",
    "axs[0].set_ylabel(\"BER\")\n",
    "axs[0].set_xlabel(\"$-\\sigma^2_\\mathrm{n}$ [dB]\")\n",
    "axs[0].set_yscale(\"log\")\n",
    "axs[0].set_ylim(1e-4, 5e-2)\n",
    "axs[0].set_xlim(14.5, 22.5)\n",
    "axs[0].set_xticks(data[:, 0])\n",
    "axs[0].plot(data[:, 0], data[:, 1], lw=1, color=color[0], label=r\"21 tap SNN\")\n",
    "axs[0].scatter(data[:, 0], data[:, 1], color=color[0], s=10)\n",
    "axs[0].hlines(2e-3, 14.5, 22.5, color=\"grey\", ls=\"--\", label=\"KP4 FEC Threshold\")\n",
    "axs[0].grid(which=\"minor\", lw=0.5)\n",
    "axs[0].grid(which=\"major\", lw=0.7)\n",
    "axs[0].yaxis.set_label_coords(-0.1, 0.6)\n",
    "axs[0].legend(fontsize=9, handlelength=0.5)\n",
    "\n",
    "axs[1].set_ylabel(\"Spikes\")\n",
    "axs[1].set_xlabel(\"$-\\sigma^2_\\mathrm{n}$ [dB]\")\n",
    "axs[1].set_xticks(data[:, 0])\n",
    "axs[1].set_ylim(0, 125)\n",
    "axs[1].plot(data[:, 0], data[:, 2], lw=1, color=color[0])\n",
    "axs[1].scatter(data[:, 0], data[:, 2], color=color[0], s=10, label=\"Input\")\n",
    "axs[1].plot(data[:, 0], data[:, 3], lw=1, color=color[2])\n",
    "axs[1].scatter(data[:, 0], data[:, 3], color=color[2], s=10, label=\"Hidden\")\n",
    "axs[1].legend()\n",
    "\n",
    "plt.tight_layout()\n",
    "plt.savefig(base_path / \"ber_snr.png\")"
   ]
  }
 ],
 "metadata": {
  "kernelspec": {
   "display_name": "Python 3 (ipykernel)",
   "language": "python",
   "name": "python3"
  },
  "language_info": {
   "codemirror_mode": {
    "name": "ipython",
    "version": 3
   },
   "file_extension": ".py",
   "mimetype": "text/x-python",
   "name": "python",
   "nbconvert_exporter": "python",
   "pygments_lexer": "ipython3",
   "version": "3.8.2"
  }
 },
 "nbformat": 4,
 "nbformat_minor": 4
}
