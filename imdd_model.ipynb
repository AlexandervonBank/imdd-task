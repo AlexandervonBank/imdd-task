{
 "cells": [
  {
   "cell_type": "markdown",
   "metadata": {},
   "source": [
    "# Intensity Modulation and Direct Detection\n"
   ]
  },
  {
   "cell_type": "markdown",
   "metadata": {},
   "source": [
    "## IM/DD Model"
   ]
  },
  {
   "cell_type": "code",
   "execution_count": 1,
   "metadata": {},
   "outputs": [
    {
     "name": "stdout",
     "output_type": "stream",
     "text": [
      "Link parameters:  IMDDParams(N=50000, n_taps=7, alphabet=tensor([-3., -1.,  1.,  3.]), oversampling_factor=3, baudrate=112000000000, wavelength=1.27e-06, dispersion_parameter=-5e-06, fiber_length=4000, noise_power_gain_db=22, roll_off=0.2, bias=2.2)\n",
      "Link:  IMDDModel(\n",
      "  IMDDParams(N=50000, n_taps=7, alphabet=tensor([-3., -1.,  1.,  3.]), oversampling_factor=3, baudrate=112000000000, wavelength=1.27e-06, dispersion_parameter=-5e-06, fiber_length=4000, noise_power_gain_db=22, roll_off=0.2, bias=2.2)\n",
      "  (transmitter): Transmitter()\n",
      "  (channel): OpticalChannel()\n",
      "  (receiver): Receiver()\n",
      ")\n"
     ]
    }
   ],
   "source": [
    "import matplotlib.pyplot as plt\n",
    "import numpy as np\n",
    "import torch\n",
    "\n",
    "from IMDD import IMDDModel, IMDDParams, helpers\n",
    "\n",
    "params = IMDDParams(\n",
    "    N=50000,\n",
    "    n_taps=7,\n",
    "    alphabet=torch.tensor([-3., -1., 1., 3.]),\n",
    "    oversampling_factor=3,\n",
    "    baudrate=112000000000,\n",
    "    wavelength=0.000001270,\n",
    "    dispersion_parameter=-0.000005,\n",
    "    fiber_length=4000,\n",
    "    noise_power_gain_db=22,\n",
    "    roll_off=0.2,\n",
    "    bias=2.2)\n",
    "link = IMDDModel(params)\n",
    "\n",
    "print(\"Link parameters: \", params)\n",
    "print(\"Link: \", link)"
   ]
  },
  {
   "cell_type": "code",
   "execution_count": 2,
   "metadata": {},
   "outputs": [
    {
     "name": "stdout",
     "output_type": "stream",
     "text": [
      "Messages:\n",
      " tensor([1, 0, 1,  ..., 3, 1, 0]) torch.Size([50000])\n",
      "Grey bits:\n",
      " [[0 0]\n",
      " [0 1]\n",
      " [1 1]\n",
      " [1 0]]\n",
      "Bits to send:\n",
      " [[0 1]\n",
      " [0 0]\n",
      " [0 1]\n",
      " ...\n",
      " [1 0]\n",
      " [0 1]\n",
      " [0 0]] (50000, 2)\n"
     ]
    }
   ],
   "source": [
    "# Create messages to send\n",
    "messages = link.source()\n",
    "print(\"Messages:\\n\", messages, messages.shape)\n",
    "\n",
    "# Each of those messages correspond to a pair of bits\n",
    "grey_labels = helpers.get_graylabel(2)\n",
    "print(\"Grey bits:\\n\", grey_labels)\n",
    "\n",
    "# bits that get sent\n",
    "bits = grey_labels[messages]\n",
    "print(\"Bits to send:\\n\", bits, bits.shape)"
   ]
  },
  {
   "cell_type": "code",
   "execution_count": 3,
   "metadata": {},
   "outputs": [
    {
     "name": "stdout",
     "output_type": "stream",
     "text": [
      "Received (impaird) symbols:\n",
      " tensor([[1.3022, 1.6318, 1.1422,  ..., 0.8866, 1.8171, 5.4610],\n",
      "        [4.8358, 1.3022, 1.6318,  ..., 1.5923, 0.8866, 1.8171],\n",
      "        [4.3833, 4.8358, 1.3022,  ..., 1.1422, 1.5923, 0.8866],\n",
      "        ...,\n",
      "        [1.5923, 0.8866, 1.8171,  ..., 3.5574, 0.9554, 3.0522],\n",
      "        [1.1422, 1.5923, 0.8866,  ..., 5.4610, 3.5574, 0.9554],\n",
      "        [1.6318, 1.1422, 1.5923,  ..., 1.8171, 5.4610, 3.5574]]) torch.Size([50000, 7])\n"
     ]
    }
   ],
   "source": [
    "received_symbols = link(messages)\n",
    "print(\"Received (impaird) symbols:\\n\", received_symbols, received_symbols.shape)"
   ]
  },
  {
   "cell_type": "code",
   "execution_count": 32,
   "metadata": {},
   "outputs": [
    {
     "name": "stderr",
     "output_type": "stream",
     "text": [
      "/tmp/ipykernel_822949/1897460151.py:15: UserWarning: FixedFormatter should only be used together with FixedLocator\n",
      "  axs[0, 0].set_yticklabels([r\"\\texttt{00}\", r\"\\texttt{01}\", \"11\", \"10\"])\n",
      "/tmp/ipykernel_822949/1897460151.py:26: UserWarning: FixedFormatter should only be used together with FixedLocator\n",
      "  axs[0, 1].set_xticklabels([\"00\", \"01\", \"11\", \"10\"])\n"
     ]
    },
    {
     "data": {
      "image/png": "[encoded data removed]",
      "text/plain": [
       "<Figure size 350x270 with 4 Axes>"
      ]
     },
     "metadata": {},
     "output_type": "display_data"
    }
   ],
   "source": [
    "color = [\"#FAC90F\", \"#FA8D0F\", \"#0F69FA\", \"#7A6F45\"]\n",
    "\n",
    "#plt.rcParams['text.latex.preamble']=[r\"\\usepackage{lmodern}\"]\n",
    "#Options\n",
    "params = {'text.usetex' : True,\n",
    "          'font.size' : 8,\n",
    "          }\n",
    "plt.rcParams.update(params) \n",
    "\n",
    "fig, axs = plt.subplots(nrows=2, ncols=2, figsize=(3.5, 2.7))\n",
    "axs[0, 0].scatter(np.arange(0, 21), messages[:21].numpy(), color=color[2], s=5)\n",
    "axs[0, 0].plot(np.arange(0, 21), messages[:21].numpy(), ls=\":\", color=color[2])\n",
    "axs[0, 0].set_ylabel(\"$B_n$\")\n",
    "axs[0, 0].yaxis.set_label_coords(-0.1, 0.5)\n",
    "axs[0, 0].set_xlabel(\"$n$\")\n",
    "axs[0, 0].set_yticklabels([r\"\\texttt{00}\", r\"\\texttt{01}\", r\"\\texttt{11}\", r\"\\texttt{10}\"])\n",
    "axs[0, 0].set_yticks([0, 1, 2, 3])\n",
    "\n",
    "labels, counts = np.unique(messages[messages == 0].numpy(), return_counts=True)\n",
    "axs[0, 1].set_ylabel(\"Density\")\n",
    "axs[0, 1].set_yticks([0.25])\n",
    "axs[0, 1].yaxis.set_label_coords(-0.1, 0.5)\n",
    "axs[0, 1].set_xlabel(\"$B_n$\")\n",
    "for i in range(4):\n",
    "    labels, counts = np.unique(messages[messages == i].numpy(), return_counts=True)\n",
    "    axs[0, 1].bar(labels, counts / 50000, align='center', width=0.5, color=color[i])\n",
    "axs[0, 1].set_xticklabels([r\"\\texttt{00}\", r\"\\texttt{01}\", r\"\\texttt{11}\", r\"\\texttt{10}\"])\n",
    "axs[0, 1].set_xticks([0, 1, 2, 3])\n",
    "\n",
    "axs[1, 0].scatter(np.arange(21), received_symbols[:21, 3], color=color[2], s=5)\n",
    "axs[1, 0].plot(received_symbols[:21, 3], \":\", color=color[2])\n",
    "axs[1, 0].set_ylabel(r\"$\\tilde{y}_n$\")\n",
    "axs[1, 0].set_xlabel(\"$n$\")\n",
    "for i in range(4):\n",
    "    (counts, bins) = np.histogram(received_symbols[:, 3].numpy()[messages == i], bins=np.linspace(0, 7, 51))\n",
    "    axs[1, 1].hist(bins[:-1], bins, weights=counts / 50000,\n",
    "    linewidth=1, alpha=1, histtype=\"stepfilled\", edgecolor=color[i], color=color[i])\n",
    "axs[1, 1].set_ylabel(\"Density\")\n",
    "axs[1, 1].set_yticks([0.05])\n",
    "axs[1, 1].yaxis.set_label_coords(-0.1, 0.5)\n",
    "axs[1, 1].set_xlabel(r\"$\\tilde{y}_n$\")\n",
    "\n",
    "plt.tight_layout()\n",
    "plt.savefig(\"./imdd.pgf\")"
   ]
  },
  {
   "cell_type": "code",
   "execution_count": 5,
   "metadata": {},
   "outputs": [
    {
     "name": "stdout",
     "output_type": "stream",
     "text": [
      "tensor([1.8319, 1.0458, 5.3803, 5.6211, 5.8782, 5.5184, 0.8227]) tensor(3)\n"
     ]
    }
   ],
   "source": [
    "from IMDD import PAM4IMDD\n",
    "\n",
    "params = IMDDParams(\n",
    "    N=50000,\n",
    "    n_taps=7,\n",
    "    alphabet=torch.tensor([-3., -1., 1., 3.]),\n",
    "    oversampling_factor=3,\n",
    "    baudrate=112000000000,\n",
    "    wavelength=0.000001270,\n",
    "    dispersion_parameter=-0.000005,\n",
    "    fiber_length=4000,\n",
    "    noise_power_gain_db=22,\n",
    "    roll_off=0.2,\n",
    "    bias=2.2)\n",
    "dataset = PAM4IMDD(params, bit_level=False)\n",
    "\n",
    "data, targets = dataset[42]\n",
    "print(data, targets)"
   ]
  },
  {
   "cell_type": "markdown",
   "metadata": {},
   "source": [
    "## Dataset"
   ]
  }
 ],
 "metadata": {
  "kernelspec": {
   "display_name": "Python 3 (ipykernel)",
   "language": "python",
   "name": "python3"
  },
  "language_info": {
   "codemirror_mode": {
    "name": "ipython",
    "version": 3
   },
   "file_extension": ".py",
   "mimetype": "text/x-python",
   "name": "python",
   "nbconvert_exporter": "python",
   "pygments_lexer": "ipython3",
   "version": "3.8.2"
  }
 },
 "nbformat": 4,
 "nbformat_minor": 2
}
